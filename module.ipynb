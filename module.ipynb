{
  "nbformat": 4,
  "nbformat_minor": 0,
  "metadata": {
    "colab": {
      "provenance": [],
      "authorship_tag": "ABX9TyNZJnC/SHXvJdjNxmxWfbPx",
      "include_colab_link": true
    },
    "kernelspec": {
      "name": "python3",
      "display_name": "Python 3"
    },
    "language_info": {
      "name": "python"
    }
  },
  "cells": [
    {
      "cell_type": "markdown",
      "metadata": {
        "id": "view-in-github",
        "colab_type": "text"
      },
      "source": [
        "<a href=\"https://colab.research.google.com/github/Marion-Anyango/marion/blob/main/module.ipynb\" target=\"_parent\"><img src=\"https://colab.research.google.com/assets/colab-badge.svg\" alt=\"Open In Colab\"/></a>"
      ]
    },
    {
      "cell_type": "code",
      "execution_count": 6,
      "metadata": {
        "id": "-ds7XW_E12d4"
      },
      "outputs": [],
      "source": [
        "x=[2,3,4,5,6,7,8]\n",
        "y=[30,40,50,60,70,80]\n",
        "a=20\n",
        "b=30\n",
        "def playnum (m,n):\n",
        " while (m>0):\n",
        "  print (m*n)\n",
        "  m-=1\n",
        "  return\n",
        "\n"
      ]
    },
    {
      "cell_type": "code",
      "source": [],
      "metadata": {
        "id": "03OxWa2o7Gfx"
      },
      "execution_count": null,
      "outputs": []
    }
  ]
}